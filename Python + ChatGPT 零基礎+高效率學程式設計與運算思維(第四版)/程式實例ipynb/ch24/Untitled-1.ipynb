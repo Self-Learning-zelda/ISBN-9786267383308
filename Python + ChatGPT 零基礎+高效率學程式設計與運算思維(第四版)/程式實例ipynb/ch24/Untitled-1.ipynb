{
 "cells": [
  {
   "cell_type": "code",
   "execution_count": null,
   "metadata": {},
   "outputs": [],
   "source": [
    "import statsmodels.api as sm\n",
    "import seaborn as sns\n",
    "from statsmodels.tools.tools import add_constant\n",
    "\n",
    "# 載入penguins數據\n",
    "penguins = sns.load_dataset(\"penguins\")\n",
    "# 由於penguins數據集中有缺失值，我們需要清除這些數據\n",
    "penguins.dropna(inplace=True)\n",
    "\n",
    "# 編碼我們的目標變量\n",
    "penguins[\"species\"] = penguins[\"species\"].astype(\"category\").cat.codes\n",
    "\n",
    "# 擬合Multinomial logit模型\n",
    "model = sm.MNLogit(penguins[\"species\"], add_constant(penguins[[\"bill_length_mm\", \"body_mass_g\"]]))\n",
    "result = model.fit()\n",
    "\n",
    "# printing the summary table\n",
    "print(result.summary())\n",
    "\n",
    "# 執行檢定\n",
    "# 注意：根據 statsmodels 的版本， test_hausman 可能"
   ]
  },
  {
   "cell_type": "code",
   "execution_count": null,
   "metadata": {},
   "outputs": [],
   "source": [
    "penguins"
   ]
  },
  {
   "cell_type": "code",
   "execution_count": null,
   "metadata": {},
   "outputs": [],
   "source": [
    "\n",
    "# print(result.summary())\n",
    "e1=math.exp(-84.7449+3.3119*43.992793+(-0.0161)*4207.057057)\n",
    "e2=math.exp(-4.830+4.325*43.992793+(-3.436)*4207.057057)\n",
    "print(e2)\n",
    "print(math.exp(1))\n",
    "\n",
    "\n",
    "# print(-(-84.7449+3.3119*43.992793+(-0.0161)*4207.057057))\n",
    "# print(-(-4.830+4.325*43.992793+(-3.436)*4207.057057))\n",
    "pred1=1/(1+np.exp(-(-57.6169 +0.8657 *43.992793+(0.0046)*4207.057057)))\n",
    "print(pred1)\n",
    "print(pred2/(1-pred2))\n",
    "print(pred1/(1-pred1))\n",
    "print(predicted_probabilities)"
   ]
  },
  {
   "cell_type": "code",
   "execution_count": null,
   "metadata": {},
   "outputs": [],
   "source": [
    "# 新數據點的示例，用於進行預測（以自變量的平均值為例）\n",
    "import numpy as np\n",
    "\n",
    "# 創建一個新的DataFrame，其中包含你想要預測的數據點的特徵值\n",
    "# 注意這只是作為範例，你需要根據你的具體需求來填入數據點\n",
    "new_data = pd.DataFrame({\n",
    "    'const': 1,  # add_constant 函數會添加的常數項\n",
    "    'bill_length_mm': np.mean(penguins[\"bill_length_mm\"]),  # 啄的長度\n",
    "    'body_mass_g': np.mean(penguins[\"body_mass_g\"]),  # 身體質量\n",
    "}, index=[0])\n",
    "\n",
    "# 進行預測，它會返回每個可能結果的概率\n",
    "predicted_probabilities = result.predict(new_data)\n",
    "\n",
    "# 顯示預測結果\n",
    "print(predicted_probabilities)\n",
    "\n",
    "# 獲取最有可能的類別（最高概率）\n",
    "predicted_species = np.argmax(predicted_probabilities.values, axis=1)\n",
    "\n",
    "# 輸出預測結果的類別預測\n",
    "print(f\"The predicted species code is: {predicted_species}\")"
   ]
  }
 ],
 "metadata": {
  "kernelspec": {
   "display_name": "Python 3",
   "language": "python",
   "name": "python3"
  },
  "language_info": {
   "codemirror_mode": {
    "name": "ipython",
    "version": 3
   },
   "file_extension": ".py",
   "mimetype": "text/x-python",
   "name": "python",
   "nbconvert_exporter": "python",
   "pygments_lexer": "ipython3",
   "version": "3.11.8"
  }
 },
 "nbformat": 4,
 "nbformat_minor": 2
}
